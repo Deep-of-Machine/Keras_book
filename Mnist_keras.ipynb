{
  "nbformat": 4,
  "nbformat_minor": 0,
  "metadata": {
    "colab": {
      "name": "Mnist_keras.ipynb",
      "provenance": [],
      "collapsed_sections": [],
      "authorship_tag": "ABX9TyO0JGRZ7tgALO9UY8xuQ14e",
      "include_colab_link": true
    },
    "kernelspec": {
      "name": "python3",
      "display_name": "Python 3"
    },
    "language_info": {
      "name": "python"
    },
    "accelerator": "GPU"
  },
  "cells": [
    {
      "cell_type": "markdown",
      "metadata": {
        "id": "view-in-github",
        "colab_type": "text"
      },
      "source": [
        "<a href=\"https://colab.research.google.com/github/Deep-of-Machine/Keras_book/blob/main/Mnist_keras.ipynb\" target=\"_parent\"><img src=\"https://colab.research.google.com/assets/colab-badge.svg\" alt=\"Open In Colab\"/></a>"
      ]
    },
    {
      "cell_type": "code",
      "execution_count": 1,
      "metadata": {
        "id": "TsjmpTVffHIl"
      },
      "outputs": [],
      "source": [
        "from keras.datasets import mnist"
      ]
    },
    {
      "cell_type": "code",
      "source": [
        "(train_images, train_labels), (test_images, test_labels) = mnist.load_data()"
      ],
      "metadata": {
        "id": "Ca1bXFUcfLHt"
      },
      "execution_count": 32,
      "outputs": []
    },
    {
      "cell_type": "code",
      "source": [
        "train_images.shape"
      ],
      "metadata": {
        "colab": {
          "base_uri": "https://localhost:8080/"
        },
        "id": "1esp4QsLfbPk",
        "outputId": "3b3f2bef-4902-43ee-fff4-c7309d36a90a"
      },
      "execution_count": 33,
      "outputs": [
        {
          "output_type": "execute_result",
          "data": {
            "text/plain": [
              "(60000, 28, 28)"
            ]
          },
          "metadata": {},
          "execution_count": 33
        }
      ]
    },
    {
      "cell_type": "code",
      "source": [
        "len(train_images)"
      ],
      "metadata": {
        "colab": {
          "base_uri": "https://localhost:8080/"
        },
        "id": "e48hQdHvfh48",
        "outputId": "461b1d6a-93ab-4c5c-a720-b1f113e6ba18"
      },
      "execution_count": 34,
      "outputs": [
        {
          "output_type": "execute_result",
          "data": {
            "text/plain": [
              "60000"
            ]
          },
          "metadata": {},
          "execution_count": 34
        }
      ]
    },
    {
      "cell_type": "code",
      "source": [
        "test_images.shape"
      ],
      "metadata": {
        "colab": {
          "base_uri": "https://localhost:8080/"
        },
        "id": "DAXjkO1DfkgB",
        "outputId": "e81cb1cb-03df-4bdf-9695-a17bc36c25ca"
      },
      "execution_count": 35,
      "outputs": [
        {
          "output_type": "execute_result",
          "data": {
            "text/plain": [
              "(10000, 28, 28)"
            ]
          },
          "metadata": {},
          "execution_count": 35
        }
      ]
    },
    {
      "cell_type": "code",
      "source": [
        "len(test_images)"
      ],
      "metadata": {
        "colab": {
          "base_uri": "https://localhost:8080/"
        },
        "id": "i5qr8wCxfnVP",
        "outputId": "d1109bc6-6829-45a4-c9cc-2d91fa6da1e5"
      },
      "execution_count": 36,
      "outputs": [
        {
          "output_type": "execute_result",
          "data": {
            "text/plain": [
              "10000"
            ]
          },
          "metadata": {},
          "execution_count": 36
        }
      ]
    },
    {
      "cell_type": "code",
      "source": [
        "from keras import models\n",
        "from keras import layers"
      ],
      "metadata": {
        "id": "UmRQCb2dfpMw"
      },
      "execution_count": 37,
      "outputs": []
    },
    {
      "cell_type": "code",
      "source": [
        "network = models.Sequential()"
      ],
      "metadata": {
        "id": "nZPDxwLEfvy3"
      },
      "execution_count": 38,
      "outputs": []
    },
    {
      "cell_type": "code",
      "source": [
        "network.add(layers.Dense(512, activation='relu', input_shape=(28*28,)))"
      ],
      "metadata": {
        "id": "3ffzuE2_f2eS"
      },
      "execution_count": 39,
      "outputs": []
    },
    {
      "cell_type": "code",
      "source": [
        "network.add(layers.Dense(10, activation='softmax'))"
      ],
      "metadata": {
        "id": "1Rw9pS5vgF52"
      },
      "execution_count": 40,
      "outputs": []
    },
    {
      "cell_type": "code",
      "source": [
        "network.compile(optimizer='rmsprop',\n",
        "                loss='categorical_crossentropy',\n",
        "                metrics=['accuracy'])"
      ],
      "metadata": {
        "id": "8LaWPNeOgZAf"
      },
      "execution_count": 41,
      "outputs": []
    },
    {
      "cell_type": "code",
      "source": [
        "train_images = train_images.reshape((60000, 28*28))\n",
        "train_images = train_images.astype('float32') / 255\n",
        "\n",
        "test_images = test_images.reshape((10000, 28*28))\n",
        "test_images = test_images.astype('float32') / 255"
      ],
      "metadata": {
        "id": "56RtGcSBgqHi"
      },
      "execution_count": 42,
      "outputs": []
    },
    {
      "cell_type": "code",
      "source": [
        "from tensorflow.keras.utils import to_categorical"
      ],
      "metadata": {
        "id": "ev8ycGWohB4V"
      },
      "execution_count": 43,
      "outputs": []
    },
    {
      "cell_type": "code",
      "source": [
        "train_labels = to_categorical(train_labels)\n",
        "test_labels = to_categorical(test_labels)"
      ],
      "metadata": {
        "id": "ZN7_BvCjhJIR"
      },
      "execution_count": 44,
      "outputs": []
    },
    {
      "cell_type": "code",
      "source": [
        "network.fit(train_images, train_labels, epochs=30, batch_size=64)"
      ],
      "metadata": {
        "colab": {
          "base_uri": "https://localhost:8080/"
        },
        "id": "LvyP0KkyhpNT",
        "outputId": "f5702f5c-dd27-418a-e359-238575143388"
      },
      "execution_count": 45,
      "outputs": [
        {
          "output_type": "stream",
          "name": "stdout",
          "text": [
            "Epoch 1/30\n",
            "938/938 [==============================] - 5s 3ms/step - loss: 0.2189 - accuracy: 0.9363\n",
            "Epoch 2/30\n",
            "938/938 [==============================] - 3s 3ms/step - loss: 0.0897 - accuracy: 0.9731\n",
            "Epoch 3/30\n",
            "938/938 [==============================] - 3s 3ms/step - loss: 0.0613 - accuracy: 0.9823\n",
            "Epoch 4/30\n",
            "938/938 [==============================] - 3s 3ms/step - loss: 0.0461 - accuracy: 0.9863\n",
            "Epoch 5/30\n",
            "938/938 [==============================] - 3s 3ms/step - loss: 0.0352 - accuracy: 0.9894\n",
            "Epoch 6/30\n",
            "938/938 [==============================] - 3s 3ms/step - loss: 0.0279 - accuracy: 0.9918\n",
            "Epoch 7/30\n",
            "938/938 [==============================] - 3s 3ms/step - loss: 0.0213 - accuracy: 0.9934\n",
            "Epoch 8/30\n",
            "938/938 [==============================] - 3s 3ms/step - loss: 0.0173 - accuracy: 0.9949\n",
            "Epoch 9/30\n",
            "938/938 [==============================] - 3s 3ms/step - loss: 0.0139 - accuracy: 0.9960\n",
            "Epoch 10/30\n",
            "938/938 [==============================] - 3s 3ms/step - loss: 0.0103 - accuracy: 0.9969\n",
            "Epoch 11/30\n",
            "938/938 [==============================] - 3s 3ms/step - loss: 0.0081 - accuracy: 0.9974\n",
            "Epoch 12/30\n",
            "938/938 [==============================] - 3s 3ms/step - loss: 0.0072 - accuracy: 0.9977\n",
            "Epoch 13/30\n",
            "938/938 [==============================] - 3s 3ms/step - loss: 0.0056 - accuracy: 0.9983\n",
            "Epoch 14/30\n",
            "938/938 [==============================] - 3s 3ms/step - loss: 0.0044 - accuracy: 0.9987\n",
            "Epoch 15/30\n",
            "938/938 [==============================] - 3s 3ms/step - loss: 0.0038 - accuracy: 0.9989\n",
            "Epoch 16/30\n",
            "938/938 [==============================] - 3s 3ms/step - loss: 0.0028 - accuracy: 0.9992\n",
            "Epoch 17/30\n",
            "938/938 [==============================] - 3s 3ms/step - loss: 0.0023 - accuracy: 0.9992\n",
            "Epoch 18/30\n",
            "938/938 [==============================] - 3s 3ms/step - loss: 0.0020 - accuracy: 0.9994\n",
            "Epoch 19/30\n",
            "938/938 [==============================] - 3s 3ms/step - loss: 0.0018 - accuracy: 0.9995\n",
            "Epoch 20/30\n",
            "938/938 [==============================] - 3s 3ms/step - loss: 0.0010 - accuracy: 0.9996\n",
            "Epoch 21/30\n",
            "938/938 [==============================] - 3s 3ms/step - loss: 0.0011 - accuracy: 0.9997\n",
            "Epoch 22/30\n",
            "938/938 [==============================] - 3s 3ms/step - loss: 8.1086e-04 - accuracy: 0.9997\n",
            "Epoch 23/30\n",
            "938/938 [==============================] - 3s 3ms/step - loss: 0.0010 - accuracy: 0.9997\n",
            "Epoch 24/30\n",
            "938/938 [==============================] - 3s 3ms/step - loss: 5.8939e-04 - accuracy: 0.9998\n",
            "Epoch 25/30\n",
            "938/938 [==============================] - 3s 3ms/step - loss: 3.6643e-04 - accuracy: 0.9999\n",
            "Epoch 26/30\n",
            "938/938 [==============================] - 3s 3ms/step - loss: 2.9015e-04 - accuracy: 0.9999\n",
            "Epoch 27/30\n",
            "938/938 [==============================] - 3s 3ms/step - loss: 5.0676e-04 - accuracy: 0.9999\n",
            "Epoch 28/30\n",
            "938/938 [==============================] - 3s 3ms/step - loss: 3.9797e-04 - accuracy: 0.9999\n",
            "Epoch 29/30\n",
            "938/938 [==============================] - 3s 3ms/step - loss: 2.9242e-04 - accuracy: 0.9999\n",
            "Epoch 30/30\n",
            "938/938 [==============================] - 3s 3ms/step - loss: 1.2090e-04 - accuracy: 1.0000\n"
          ]
        },
        {
          "output_type": "execute_result",
          "data": {
            "text/plain": [
              "<keras.callbacks.History at 0x7fdc104698d0>"
            ]
          },
          "metadata": {},
          "execution_count": 45
        }
      ]
    },
    {
      "cell_type": "code",
      "source": [
        "test_loss, test_acc = network.evaluate(test_images, test_labels)"
      ],
      "metadata": {
        "colab": {
          "base_uri": "https://localhost:8080/"
        },
        "id": "w0eMR0R5h0KC",
        "outputId": "eb098f23-57e7-44f2-b928-d5d81f8486b6"
      },
      "execution_count": 46,
      "outputs": [
        {
          "output_type": "stream",
          "name": "stdout",
          "text": [
            "313/313 [==============================] - 1s 3ms/step - loss: 0.1362 - accuracy: 0.9841\n"
          ]
        }
      ]
    },
    {
      "cell_type": "code",
      "source": [
        "print('test_acc', test_acc)\n",
        "print('test_loss', test_loss)"
      ],
      "metadata": {
        "colab": {
          "base_uri": "https://localhost:8080/"
        },
        "id": "B8W1YFZximA5",
        "outputId": "5226a7fd-18eb-4f48-ae8b-7b3a26ae8e5a"
      },
      "execution_count": 47,
      "outputs": [
        {
          "output_type": "stream",
          "name": "stdout",
          "text": [
            "test_acc 0.9840999841690063\n",
            "test_loss 0.13624225556850433\n"
          ]
        }
      ]
    },
    {
      "cell_type": "code",
      "source": [
        ""
      ],
      "metadata": {
        "id": "hUKPkCmQiyrh"
      },
      "execution_count": null,
      "outputs": []
    }
  ]
}